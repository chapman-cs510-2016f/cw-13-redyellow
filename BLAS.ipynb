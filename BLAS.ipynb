{
 "cells": [
  {
   "cell_type": "markdown",
   "metadata": {
    "collapsed": false
   },
   "source": [
    "**explain the code in detail. **\n",
    "\n",
    "1. define three 3x3 matrixs, m, n, o. When it define, it tells the length of each matrix, 3 rows x 3 columns, and the type of the elements, here is long double for complex number.\n",
    " \n",
    "2. use two for loop to initialize these three matrix, m, n, o. where r is the real part, c is the complex part. So for matrix m only have real value, matrix n has both real and complex value. \"std::pow(n(r,c), 2)\" means square of n(r,c), so o=square of n(r,c)=(r^2-c^2)+(2*r*c)i\n",
    "\n",
    "3. print the value of m, n, o, and m+n, m*n,n*n-o.\n",
    "\n",
    "\n",
    "**How does this code compare in complexity to the code you wrote for Stack and Queue?**\n",
    "\n",
    "Stack and Queue are one dimentional data, and have order, Stack is FILO, Queue is FIFO. But matrix at here is tow dimentional, have rows and columns, and it's easy to do mathematical compute.\n"
   ]
  },
  {
   "cell_type": "markdown",
   "metadata": {},
   "source": [
    "**Explain what the notation <type> means in, e.g., complex<long double>**\n",
    "\n",
    "std::complex<long double> are LiteralTypes for representing and manipulating complex numbers. Here means complex number and the type of both the real and imagie part are long double. "
   ]
  },
  {
   "cell_type": "markdown",
   "metadata": {},
   "source": [
    "**Are BLAS matrices row-major or column-major? How can you tell based on how the code is written?**\n",
    "\n",
    "It's row-major. Because it is stored as row first. For example m(r,c)= 3 * r + c, which only has real part. After those two loop, the result of m is (((0,0),(1,0),(2,0)),((3,0),(4,0),(5,0)),((6,0),(7,0),(8,0))), which is exactly the as the matrix that is stored inrow-major. Like this:\n",
    "```\n",
    "(0,0) (1,0) (2,0)\n",
    "(3,0) (4,0) (5,0)\n",
    "(6,0) (7,0) (8,0)\n",
    "```"
   ]
  },
  {
   "cell_type": "code",
   "execution_count": null,
   "metadata": {
    "collapsed": true
   },
   "outputs": [],
   "source": []
  }
 ],
 "metadata": {
  "kernelspec": {
   "display_name": "Python 2 (SageMath)",
   "language": "python",
   "name": "python2"
  },
  "language_info": {
   "codemirror_mode": {
    "name": "ipython",
    "version": 2
   },
   "file_extension": ".py",
   "mimetype": "text/x-python",
   "name": "python",
   "nbconvert_exporter": "python",
   "pygments_lexer": "ipython2",
   "version": "2.7.10"
  }
 },
 "nbformat": 4,
 "nbformat_minor": 0
}
