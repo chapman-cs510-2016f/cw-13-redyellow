{
 "cells": [
  {
   "cell_type": "markdown",
   "metadata": {
    "collapsed": false
   },
   "source": [
    "** CS510_CW13_Nengyin & Kaiqin **\n",
    "\n",
    "** Examine the source code in src/blas carefully. **\n",
    "\n",
    "**i. Explain the code in detail. **\n",
    "\n",
    "1. Define three 3x3 matrices, m, n, o.  When defining them, the code gives the length of each matrix (3 rows x 3 columns) and the type of the elements, which is long double here for the complex number.\n",
    "\n",
    "2. Use two *for* loop to initialize three matrices m, n, o.  Matrix m only have real part, which is calculated by \"3\\*row + col\".  Matrix n have both real and imaginary parts, where \"r\" is the real part and \"c\" is the parameter for the imaginary part.  Matrix o consists of the square for each number in Matrix n.  The code is ```std::pow(n(r,c), 2)```, which means o(r,c) = square of n(r,c) = (r^2-c^2)+(2\\*r\\*c)i.\n",
    "\n",
    "3. Print the elements in Matrices m, n, o, and the matrix operation results m+n, m\\*n, and n\\*n-o.\n",
    "\n",
    "**How does this code compare in complexity to the code you wrote for Stack and Queue?**\n",
    "\n",
    "Stack and Queue are one-dimentional data.  And both stacks and nodes have order.  Specifically, Stack is FILO, Queue is FIFO. But Matrix has tow dimentions with rows and columns.  It is easier to do mathematical compute.\n",
    "\n",
    "The coding is very concise compared to the code for Stack and Queue.  The line ```matrix<::complex<long double> > m(3, 3), n(3, 3), o(3, 3);``` simplifies the code.  \"Matrix\" comes from namespace \"boost::numeric::ublas\".  And \"m(r,c)\" is a C++ boost notation.  Make good use of namespaces and libraries can improve the coding quality.\n"
   ]
  },
  {
   "cell_type": "markdown",
   "metadata": {},
   "source": [
    "**ii. Explain what the notation ```<type>``` means in, e.g., complex<long double>.**\n",
    "\n",
    "```std::complex<long double>``` is the literal type for representing and manipulating complex numbers. Here it also clarifies that the type of both real and imaginary parts are long double. \n"
   ]
  },
  {
   "cell_type": "markdown",
   "metadata": {},
   "source": [
    "**iii. Are BLAS matrices row-major or column-major? How can you tell based on how the code is written?**\n",
    "\n",
    "It is row-major.  Because the loop for column is **inside** the loop for row.  Take Matrix m \"m(r,c)= 3 \\* r + c\" for example.  Each element only has real part, so we would write each element as (x,0).  After running those two loops, the result of m is (((0,0),(1,0),(2,0)), ((3,0),(4,0),(5,0)), ((6,0),(7,0),(8,0))), which is exactly same as the matrix that is stored in row-major:\n",
    "```\n",
    "(0,0) (1,0) (2,0)\n",
    "(3,0) (4,0) (5,0)\n",
    "(6,0) (7,0) (8,0)\n",
    "```"
   ]
  }
 ],
 "metadata": {
  "kernelspec": {
   "display_name": "Python 2 (SageMath)",
   "language": "python",
   "name": "python2"
  },
  "language_info": {
   "codemirror_mode": {
    "name": "ipython",
    "version": 2
   },
   "file_extension": ".py",
   "mimetype": "text/x-python",
   "name": "python",
   "nbconvert_exporter": "python",
   "pygments_lexer": "ipython2",
   "version": "2.7.10"
  }
 },
 "nbformat": 4,
 "nbformat_minor": 0
}
