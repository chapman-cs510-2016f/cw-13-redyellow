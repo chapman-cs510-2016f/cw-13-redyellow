{
 "cells": [
  {
   "cell_type": "markdown",
   "metadata": {
    "collapsed": false
   },
   "source": [
    "**explain the code in detail**\n",
    "\n",
    "In matrix.h, it defines the class of matrix, which includes mat(a vector of vectors, two dimentional),number of rows and columns. It is a template class, which allows an arbitrary type T to be passed into a class as a parameter, so a single class definition can apply to different types. It also define mehods, includs constructor, functions of Rule of Three(copy-constructor, destructor, and assignment), + operator between matrix and access methods.\n",
    "\n",
    "In matrix.cc, it implements all of those methods defined in matrix.h:\n",
    "function Matrix(): initialize the matrix, which define the size of the matrix(rows * columns), using two dimentional vector.\n",
    "copy-constructor Matrix(const Matrix<T>& rhs): copy all of the properties of matrix rhs.\n",
    "~Matrix(): clean the memory.\n",
    "assignment operator operator=(const Matrix<T>& rhs): redefine the size of rows and colums, and then copy the value of rhs to this matrix.\n",
    "operator(): get a specific value in the matrix\n",
    "get_rows(): get the rows of the matrix\n",
    "get_cols(): get the columns of the matrix\n",
    "operator+(const Matrix<T>& rhs): add two matrix, and return the result of the addition of the two matrix\n",
    "\n",
    "Besides, in matrix.h include matrix.cc and in matrix.cc include matrix, in order to prevent infinite include loops.\n"
   ]
  },
  {
   "cell_type": "markdown",
   "metadata": {},
   "source": [
    "**Explain what a template is in C++, and what it allows that is impossible in C.**\n",
    "\n",
    "A template is a blueprint or formula for creating a generic class or a function, which allows a single class definition can apply to different types.\n",
    "\n",
    "It's like the function in Julia, but the template class in C is impossible, template function is allowed in C, like we do function overloading before, using the same function name, but different arguments."
   ]
  },
  {
   "cell_type": "markdown",
   "metadata": {},
   "source": [
    "**Explain what operator-overloading is, and which operators are overloaded here.**\n",
    "\n",
    "Operator-overloading allows more than one definition for a function name. Here operator() is an operator-overloading function."
   ]
  },
  {
   "cell_type": "markdown",
   "metadata": {},
   "source": [
    "**From the result of valgrind that there have no memory leaks in your final working program. **\n",
    "\n",
    "\n",
    "\n",
    "```\n",
    "$ valgrind --leak-check=yes test\n",
    "==27157== Memcheck, a memory error detector\n",
    "==27157== Copyright (C) 2002-2015, and GNU GPL'd, by Julian Seward et al.\n",
    "==27157== Using Valgrind-3.11.0 and LibVEX; rerun with -h for copyright info\n",
    "==27157== Command: test\n",
    "==27157==\n",
    "==27157==\n",
    "==27157== HEAP SUMMARY:\n",
    "==27157==     in use at exit: 0 bytes in 0 blocks\n",
    "==27157==   total heap usage: 523 allocs, 523 frees, 31,174 bytes allocated\n",
    "==27157==\n",
    "==27157== All heap blocks were freed -- no leaks are possible\n",
    "==27157==\n",
    "==27157== For counts of detected and suppressed errors, rerun with: -v\n",
    "==27157== ERROR SUMMARY: 0 errors from 0 contexts (suppressed: 1 from 1)\n",
    "```"
   ]
  }
 ],
 "metadata": {
  "kernelspec": {
   "display_name": "Python 2 (SageMath)",
   "language": "python",
   "name": "python2"
  },
  "language_info": {
   "codemirror_mode": {
    "name": "ipython",
    "version": 2
   },
   "file_extension": ".py",
   "mimetype": "text/x-python",
   "name": "python",
   "nbconvert_exporter": "python",
   "pygments_lexer": "ipython2",
   "version": "2.7.10"
  }
 },
 "nbformat": 4,
 "nbformat_minor": 0
}
