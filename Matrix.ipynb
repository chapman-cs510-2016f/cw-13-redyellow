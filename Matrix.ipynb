{
 "cells": [
  {
   "cell_type": "markdown",
   "metadata": {
    "collapsed": false
   },
   "source": [
    "** CS510_CW13_Nengyin & Kaiqin **\n",
    "\n",
    "** Examine the source code in src/matrix carefully. **\n",
    "\n",
    "**i. Explain the code in detail.**\n",
    "\n",
    "In matrix.h, it defines a class Matrix.  It is a template class, which allows an arbitrary type T to be passed into a class as a parameter, so a single class definition can apply to different types.  The private part of this template class Matrix includes a matrix mat (a vector of vectors, each storing type T), and numbers of rows and columns (two dimentional). The public part of this template class Matrix defines methods, which includes constructor, functions of Rule of Three(copy-constructor, destructor, and assignment), access methods, and operator + between matrices.\n",
    "\n",
    "In matrix.cc, it implements all of those methods defined in matrix.h: <br>\n",
    "1. Matrix(): Initialize the matrix, which defines the size of the matrix(rows * columns) using a two dimentional vector.\n",
    "2. Copy-constructor Matrix(const Matrix<T>& rhs): Copy all the properties of matrix rhs.\n",
    "3. ~Matrix(): Clean the memory.\n",
    "4. Assignment operator operator=(const Matrix<T>& rhs): Redefine the size of rows and columns, and then copy the value of rhs to this matrix.\n",
    "5. operator(): Get the value of a specific element in the matrix.\n",
    "6. get_rows(): Get the number of rows in the matrix.\n",
    "7. get_cols(): Get the number of columns in the matrix.\n",
    "8. operator+(const Matrix<T>& rhs): Add two matrices and return the result of the addition.\n",
    "\n",
    "Besides, matrix.h includes matrix.cc at the end and matrix.cc includes matrix.h at the beginning.  This prevents infinite include loops.\n"
   ]
  },
  {
   "cell_type": "markdown",
   "metadata": {},
   "source": [
    "**ii. Explain what a template is in C++, and what it allows that is impossible in C.**\n",
    "\n",
    "A template is a blueprint or formula to create a generic class or a function, which allows to apply a single class definition to different types.\n",
    "\n",
    "It is a fancy class for types.\n",
    "\n",
    "It is similar to the function in Julia.  In C, it does not have template class but does have similar function, such as the function and operator overloading where we can use the same function name for different arguments."
   ]
  },
  {
   "cell_type": "markdown",
   "metadata": {},
   "source": [
    "**iii. Explain what operator-overloading is, and which operators are overloaded here.**\n",
    "\n",
    "Operator-overloading allows more than one definition for a function name.  In different definitions, the inputs can have different types or structures.  Here operator() is an operator-overloading function."
   ]
  },
  {
   "cell_type": "markdown",
   "metadata": {},
   "source": [
    "**viii. From the result of valgrind that there have no memory leaks in your final working program.**\n",
    "\n",
    "\n",
    "\n",
    "```\n",
    "$ valgrind --leak-check=yes test\n",
    "==27157== Memcheck, a memory error detector\n",
    "==27157== Copyright (C) 2002-2015, and GNU GPL'd, by Julian Seward et al.\n",
    "==27157== Using Valgrind-3.11.0 and LibVEX; rerun with -h for copyright info\n",
    "==27157== Command: test\n",
    "==27157==\n",
    "==27157==\n",
    "==27157== HEAP SUMMARY:\n",
    "==27157==     in use at exit: 0 bytes in 0 blocks\n",
    "==27157==   total heap usage: 523 allocs, 523 frees, 31,174 bytes allocated\n",
    "==27157==\n",
    "==27157== All heap blocks were freed -- no leaks are possible\n",
    "==27157==\n",
    "==27157== For counts of detected and suppressed errors, rerun with: -v\n",
    "==27157== ERROR SUMMARY: 0 errors from 0 contexts (suppressed: 1 from 1)\n",
    "```"
   ]
  }
 ],
 "metadata": {
  "kernelspec": {
   "display_name": "Python 2 (SageMath)",
   "language": "python",
   "name": "python2"
  },
  "language_info": {
   "codemirror_mode": {
    "name": "ipython",
    "version": 2
   },
   "file_extension": ".py",
   "mimetype": "text/x-python",
   "name": "python",
   "nbconvert_exporter": "python",
   "pygments_lexer": "ipython2",
   "version": "2.7.10"
  }
 },
 "nbformat": 4,
 "nbformat_minor": 0
}
